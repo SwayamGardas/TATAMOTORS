{
 "cells": [
  {
   "cell_type": "code",
   "execution_count": 1,
   "id": "a0adc6d5",
   "metadata": {},
   "outputs": [],
   "source": [
    "from bsedata.bse import BSE"
   ]
  },
  {
   "cell_type": "code",
   "execution_count": 2,
   "id": "c625814c",
   "metadata": {},
   "outputs": [],
   "source": [
    "b=BSE()"
   ]
  },
  {
   "cell_type": "code",
   "execution_count": 3,
   "id": "8b1f978d",
   "metadata": {},
   "outputs": [
    {
     "name": "stdout",
     "output_type": "stream",
     "text": [
      "Driver Class for Bombay Stock Exchange (BSE)\n"
     ]
    }
   ],
   "source": [
    "print(b)"
   ]
  },
  {
   "cell_type": "code",
   "execution_count": 4,
   "id": "4d87a92f",
   "metadata": {},
   "outputs": [],
   "source": [
    "import pandas as pd"
   ]
  },
  {
   "cell_type": "code",
   "execution_count": 6,
   "id": "2523a69b",
   "metadata": {},
   "outputs": [
    {
     "data": {
      "text/html": [
       "<div>\n",
       "<style scoped>\n",
       "    .dataframe tbody tr th:only-of-type {\n",
       "        vertical-align: middle;\n",
       "    }\n",
       "\n",
       "    .dataframe tbody tr th {\n",
       "        vertical-align: top;\n",
       "    }\n",
       "\n",
       "    .dataframe thead th {\n",
       "        text-align: right;\n",
       "    }\n",
       "</style>\n",
       "<table border=\"1\" class=\"dataframe\">\n",
       "  <thead>\n",
       "    <tr style=\"text-align: right;\">\n",
       "      <th></th>\n",
       "      <th>Security Code</th>\n",
       "      <th>Issuer Name</th>\n",
       "      <th>Security Id</th>\n",
       "      <th>Security Name</th>\n",
       "      <th>ISIN No</th>\n",
       "    </tr>\n",
       "  </thead>\n",
       "  <tbody>\n",
       "    <tr>\n",
       "      <th>0</th>\n",
       "      <td>500002</td>\n",
       "      <td>ABB India Limited</td>\n",
       "      <td>ABB</td>\n",
       "      <td>ABB India Limited</td>\n",
       "      <td>INE117A01022</td>\n",
       "    </tr>\n",
       "    <tr>\n",
       "      <th>1</th>\n",
       "      <td>500003</td>\n",
       "      <td>Aegis Logistics Ltd.</td>\n",
       "      <td>AEGISLOG</td>\n",
       "      <td>AEGIS LOGISTICS LTD.</td>\n",
       "      <td>INE208C01025</td>\n",
       "    </tr>\n",
       "    <tr>\n",
       "      <th>2</th>\n",
       "      <td>500008</td>\n",
       "      <td>Amara Raja Batteries Ltd</td>\n",
       "      <td>AMARAJABAT</td>\n",
       "      <td>AMARA RAJA BATTERIES LTD.</td>\n",
       "      <td>INE885A01032</td>\n",
       "    </tr>\n",
       "    <tr>\n",
       "      <th>3</th>\n",
       "      <td>500009</td>\n",
       "      <td>Ambalal Sarabhai Enterprise Ltd.,</td>\n",
       "      <td>AMBALALSA</td>\n",
       "      <td>AMBALAL SARABHAI ENTERPRISES LTD.</td>\n",
       "      <td>INE432A01017</td>\n",
       "    </tr>\n",
       "    <tr>\n",
       "      <th>4</th>\n",
       "      <td>500010</td>\n",
       "      <td>Housing Development Finance Corp.Lt</td>\n",
       "      <td>HDFC</td>\n",
       "      <td>HOUSING DEVELOPMENT FINANCE CORP.LTD.</td>\n",
       "      <td>INE001A01036</td>\n",
       "    </tr>\n",
       "    <tr>\n",
       "      <th>...</th>\n",
       "      <td>...</td>\n",
       "      <td>...</td>\n",
       "      <td>...</td>\n",
       "      <td>...</td>\n",
       "      <td>...</td>\n",
       "    </tr>\n",
       "    <tr>\n",
       "      <th>4137</th>\n",
       "      <td>590138</td>\n",
       "      <td>SBI Mutual Fund-Permitted</td>\n",
       "      <td>SETFNIF50</td>\n",
       "      <td>SBI-ETF NIFTY 50</td>\n",
       "      <td>INF200KA1FS1</td>\n",
       "    </tr>\n",
       "    <tr>\n",
       "      <th>4138</th>\n",
       "      <td>750773</td>\n",
       "      <td>SPARC ELECTREX LIMITED</td>\n",
       "      <td>SPARC-RE</td>\n",
       "      <td>SPARC ELECTREX Ltd</td>\n",
       "      <td>INE960B20015</td>\n",
       "    </tr>\n",
       "    <tr>\n",
       "      <th>4139</th>\n",
       "      <td>780014</td>\n",
       "      <td>Has Lifestyle Limited</td>\n",
       "      <td>HASJUICE</td>\n",
       "      <td>Has Lifestyle Ltd</td>\n",
       "      <td>INE888Q01016</td>\n",
       "    </tr>\n",
       "    <tr>\n",
       "      <th>4140</th>\n",
       "      <td>780016</td>\n",
       "      <td>Web Element Solutions Limited</td>\n",
       "      <td>WEBSL</td>\n",
       "      <td>Web Element Solutions Ltd</td>\n",
       "      <td>INE562Q01017</td>\n",
       "    </tr>\n",
       "    <tr>\n",
       "      <th>4141</th>\n",
       "      <td>780018</td>\n",
       "      <td>Adhiraj Distributors Limited</td>\n",
       "      <td>ADHIRAJ</td>\n",
       "      <td>Adhiraj Distributors Ltd</td>\n",
       "      <td>INE067R01015</td>\n",
       "    </tr>\n",
       "  </tbody>\n",
       "</table>\n",
       "<p>4142 rows × 5 columns</p>\n",
       "</div>"
      ],
      "text/plain": [
       "      Security Code                          Issuer Name Security Id  \\\n",
       "0            500002                    ABB India Limited         ABB   \n",
       "1            500003                 Aegis Logistics Ltd.    AEGISLOG   \n",
       "2            500008             Amara Raja Batteries Ltd  AMARAJABAT   \n",
       "3            500009    Ambalal Sarabhai Enterprise Ltd.,   AMBALALSA   \n",
       "4            500010  Housing Development Finance Corp.Lt        HDFC   \n",
       "...             ...                                  ...         ...   \n",
       "4137         590138            SBI Mutual Fund-Permitted   SETFNIF50   \n",
       "4138         750773               SPARC ELECTREX LIMITED    SPARC-RE   \n",
       "4139         780014                Has Lifestyle Limited    HASJUICE   \n",
       "4140         780016        Web Element Solutions Limited       WEBSL   \n",
       "4141         780018         Adhiraj Distributors Limited     ADHIRAJ   \n",
       "\n",
       "                              Security Name       ISIN No  \n",
       "0                         ABB India Limited  INE117A01022  \n",
       "1                      AEGIS LOGISTICS LTD.  INE208C01025  \n",
       "2                 AMARA RAJA BATTERIES LTD.  INE885A01032  \n",
       "3         AMBALAL SARABHAI ENTERPRISES LTD.  INE432A01017  \n",
       "4     HOUSING DEVELOPMENT FINANCE CORP.LTD.  INE001A01036  \n",
       "...                                     ...           ...  \n",
       "4137                       SBI-ETF NIFTY 50  INF200KA1FS1  \n",
       "4138                     SPARC ELECTREX Ltd  INE960B20015  \n",
       "4139                      Has Lifestyle Ltd  INE888Q01016  \n",
       "4140              Web Element Solutions Ltd  INE562Q01017  \n",
       "4141               Adhiraj Distributors Ltd  INE067R01015  \n",
       "\n",
       "[4142 rows x 5 columns]"
      ]
     },
     "execution_count": 6,
     "metadata": {},
     "output_type": "execute_result"
    }
   ],
   "source": [
    "codes_df= pd.read_csv('Equity.csv')\n",
    "codes_df"
   ]
  },
  {
   "cell_type": "code",
   "execution_count": 32,
   "id": "ce50169b",
   "metadata": {},
   "outputs": [],
   "source": []
  },
  {
   "cell_type": "code",
   "execution_count": 35,
   "id": "c31c09c5",
   "metadata": {},
   "outputs": [],
   "source": [
    "tickers= ['INFY','TCS','TATAMOTORS','HDFC','ABB']\n",
    "\n",
    "codes=[]\n",
    "\n",
    "for ticker in tickers:\n",
    "    codes.append(str(list(codes_df[codes_df['Security Id']==ticker]['Security Code'])[0]))\n",
    "    \n",
    "    "
   ]
  },
  {
   "cell_type": "code",
   "execution_count": 36,
   "id": "57178ca7",
   "metadata": {},
   "outputs": [
    {
     "data": {
      "text/plain": [
       "['500209', '532540', '500570', '500010', '500002']"
      ]
     },
     "execution_count": 36,
     "metadata": {},
     "output_type": "execute_result"
    }
   ],
   "source": [
    "codes"
   ]
  },
  {
   "cell_type": "code",
   "execution_count": 42,
   "id": "212bcead",
   "metadata": {},
   "outputs": [
    {
     "name": "stdout",
     "output_type": "stream",
     "text": [
      "INFOSYS LTD.\n",
      "1374.50\n",
      "23 Mar 23 | 04:00 PM\n",
      "TATA CONSULTANCY SERVICES LTD.\n",
      "3124.00\n",
      "23 Mar 23 | 04:00 PM\n",
      "TATA MOTORS LTD.\n",
      "419.10\n",
      "23 Mar 23 | 04:00 PM\n",
      "HOUSING DEVELOPMENT FINANCE CORP.LTD.\n",
      "2567.70\n",
      "23 Mar 23 | 04:00 PM\n",
      "ABB India Limited\n",
      "3359.75\n",
      "23 Mar 23 | 04:00 PM\n"
     ]
    }
   ],
   "source": [
    "for i in codes:\n",
    "    quote= b.getQuote(i)\n",
    "    print(quote[\"companyName\"])\n",
    "    print(quote['currentValue'])\n",
    "    print(quote[\"updatedOn\"])"
   ]
  },
  {
   "cell_type": "code",
   "execution_count": null,
   "id": "c12b5d94",
   "metadata": {},
   "outputs": [],
   "source": []
  },
  {
   "cell_type": "code",
   "execution_count": 44,
   "id": "6bb58100",
   "metadata": {},
   "outputs": [
    {
     "data": {
      "text/plain": [
       "[{'securityID': 'SPARC',\n",
       "  'scripCode': '532872',\n",
       "  'LTP': '182.15',\n",
       "  'change': '19.25',\n",
       "  'pChange': '11.82'},\n",
       " {'securityID': 'JKTYRE',\n",
       "  'scripCode': '530007',\n",
       "  'LTP': '167.30',\n",
       "  'change': '16.90',\n",
       "  'pChange': '11.24'},\n",
       " {'securityID': 'VALIANTORG',\n",
       "  'scripCode': '540145',\n",
       "  'LTP': '476.35',\n",
       "  'change': '40.70',\n",
       "  'pChange': '9.34'},\n",
       " {'securityID': 'TEGA',\n",
       "  'scripCode': '543413',\n",
       "  'LTP': '701.40',\n",
       "  'change': '43.30',\n",
       "  'pChange': '6.58'},\n",
       " {'securityID': 'STARCEMENT',\n",
       "  'scripCode': '540575',\n",
       "  'LTP': '114.55',\n",
       "  'change': '6.65',\n",
       "  'pChange': '6.16'}]"
      ]
     },
     "execution_count": 44,
     "metadata": {},
     "output_type": "execute_result"
    }
   ],
   "source": [
    "b.topGainers()"
   ]
  },
  {
   "cell_type": "code",
   "execution_count": null,
   "id": "30ccce54",
   "metadata": {},
   "outputs": [],
   "source": []
  },
  {
   "cell_type": "code",
   "execution_count": null,
   "id": "e79da8b7",
   "metadata": {},
   "outputs": [],
   "source": []
  },
  {
   "cell_type": "code",
   "execution_count": null,
   "id": "de800290",
   "metadata": {},
   "outputs": [],
   "source": []
  },
  {
   "cell_type": "code",
   "execution_count": null,
   "id": "09cef922",
   "metadata": {},
   "outputs": [],
   "source": []
  },
  {
   "cell_type": "code",
   "execution_count": null,
   "id": "b754775b",
   "metadata": {},
   "outputs": [],
   "source": []
  },
  {
   "cell_type": "code",
   "execution_count": null,
   "id": "f63f04a1",
   "metadata": {},
   "outputs": [],
   "source": []
  },
  {
   "cell_type": "code",
   "execution_count": null,
   "id": "64134bfc",
   "metadata": {},
   "outputs": [],
   "source": []
  },
  {
   "cell_type": "code",
   "execution_count": null,
   "id": "f62d6a84",
   "metadata": {},
   "outputs": [],
   "source": []
  },
  {
   "cell_type": "code",
   "execution_count": null,
   "id": "d9d53acb",
   "metadata": {},
   "outputs": [],
   "source": []
  },
  {
   "cell_type": "code",
   "execution_count": null,
   "id": "ee0e4348",
   "metadata": {},
   "outputs": [],
   "source": []
  },
  {
   "cell_type": "code",
   "execution_count": null,
   "id": "f13e7e0e",
   "metadata": {},
   "outputs": [],
   "source": []
  },
  {
   "cell_type": "code",
   "execution_count": null,
   "id": "2d865b5a",
   "metadata": {},
   "outputs": [],
   "source": []
  },
  {
   "cell_type": "code",
   "execution_count": null,
   "id": "191e9714",
   "metadata": {},
   "outputs": [],
   "source": []
  },
  {
   "cell_type": "code",
   "execution_count": null,
   "id": "14c5b052",
   "metadata": {},
   "outputs": [],
   "source": []
  },
  {
   "cell_type": "code",
   "execution_count": null,
   "id": "93f3fbca",
   "metadata": {},
   "outputs": [],
   "source": []
  },
  {
   "cell_type": "code",
   "execution_count": null,
   "id": "49a71424",
   "metadata": {},
   "outputs": [],
   "source": []
  },
  {
   "cell_type": "code",
   "execution_count": null,
   "id": "2c4d7120",
   "metadata": {},
   "outputs": [],
   "source": []
  },
  {
   "cell_type": "code",
   "execution_count": null,
   "id": "7649e254",
   "metadata": {},
   "outputs": [],
   "source": []
  },
  {
   "cell_type": "code",
   "execution_count": null,
   "id": "791e70ce",
   "metadata": {},
   "outputs": [],
   "source": []
  },
  {
   "cell_type": "code",
   "execution_count": null,
   "id": "08c7e4e3",
   "metadata": {},
   "outputs": [],
   "source": []
  },
  {
   "cell_type": "code",
   "execution_count": null,
   "id": "16c70c63",
   "metadata": {},
   "outputs": [],
   "source": []
  },
  {
   "cell_type": "code",
   "execution_count": null,
   "id": "5bb24a21",
   "metadata": {},
   "outputs": [],
   "source": []
  },
  {
   "cell_type": "code",
   "execution_count": null,
   "id": "da74720b",
   "metadata": {},
   "outputs": [],
   "source": []
  },
  {
   "cell_type": "code",
   "execution_count": null,
   "id": "5992b191",
   "metadata": {},
   "outputs": [],
   "source": []
  },
  {
   "cell_type": "code",
   "execution_count": null,
   "id": "402750cc",
   "metadata": {},
   "outputs": [],
   "source": []
  },
  {
   "cell_type": "code",
   "execution_count": null,
   "id": "3258136f",
   "metadata": {},
   "outputs": [],
   "source": []
  },
  {
   "cell_type": "code",
   "execution_count": null,
   "id": "6a79a085",
   "metadata": {},
   "outputs": [],
   "source": []
  },
  {
   "cell_type": "code",
   "execution_count": null,
   "id": "b69de8c1",
   "metadata": {},
   "outputs": [],
   "source": []
  },
  {
   "cell_type": "code",
   "execution_count": null,
   "id": "6298546a",
   "metadata": {},
   "outputs": [],
   "source": []
  },
  {
   "cell_type": "code",
   "execution_count": null,
   "id": "4bb869d2",
   "metadata": {},
   "outputs": [],
   "source": []
  },
  {
   "cell_type": "code",
   "execution_count": null,
   "id": "0d99ddc0",
   "metadata": {},
   "outputs": [],
   "source": []
  },
  {
   "cell_type": "code",
   "execution_count": null,
   "id": "eba3fe37",
   "metadata": {},
   "outputs": [],
   "source": []
  },
  {
   "cell_type": "code",
   "execution_count": null,
   "id": "12c2c3f2",
   "metadata": {},
   "outputs": [],
   "source": []
  },
  {
   "cell_type": "code",
   "execution_count": null,
   "id": "bcc0e4e5",
   "metadata": {},
   "outputs": [],
   "source": []
  },
  {
   "cell_type": "code",
   "execution_count": null,
   "id": "bb76d11e",
   "metadata": {},
   "outputs": [],
   "source": []
  },
  {
   "cell_type": "code",
   "execution_count": null,
   "id": "fa5366d7",
   "metadata": {},
   "outputs": [],
   "source": []
  },
  {
   "cell_type": "code",
   "execution_count": null,
   "id": "bb0a0f58",
   "metadata": {},
   "outputs": [],
   "source": []
  },
  {
   "cell_type": "code",
   "execution_count": null,
   "id": "acdbf234",
   "metadata": {},
   "outputs": [],
   "source": []
  },
  {
   "cell_type": "code",
   "execution_count": null,
   "id": "40570968",
   "metadata": {},
   "outputs": [],
   "source": []
  },
  {
   "cell_type": "code",
   "execution_count": null,
   "id": "557ff050",
   "metadata": {},
   "outputs": [],
   "source": []
  },
  {
   "cell_type": "code",
   "execution_count": null,
   "id": "f75769fa",
   "metadata": {},
   "outputs": [],
   "source": []
  },
  {
   "cell_type": "code",
   "execution_count": null,
   "id": "3319b6c6",
   "metadata": {},
   "outputs": [],
   "source": []
  },
  {
   "cell_type": "code",
   "execution_count": null,
   "id": "1d1337e4",
   "metadata": {},
   "outputs": [],
   "source": []
  }
 ],
 "metadata": {
  "kernelspec": {
   "display_name": "Python 3 (ipykernel)",
   "language": "python",
   "name": "python3"
  },
  "language_info": {
   "codemirror_mode": {
    "name": "ipython",
    "version": 3
   },
   "file_extension": ".py",
   "mimetype": "text/x-python",
   "name": "python",
   "nbconvert_exporter": "python",
   "pygments_lexer": "ipython3",
   "version": "3.9.12"
  }
 },
 "nbformat": 4,
 "nbformat_minor": 5
}
